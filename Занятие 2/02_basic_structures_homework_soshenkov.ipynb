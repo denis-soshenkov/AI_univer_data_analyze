{
 "cells": [
  {
   "cell_type": "markdown",
   "metadata": {},
   "source": [
    "# Python для Анализа Данных\n",
    "\n",
    "#### Полина Полунина\n",
    "\n",
    "## Домашнее задание 2"
   ]
  },
  {
   "cell_type": "markdown",
   "metadata": {},
   "source": [
    "### Вариант Light"
   ]
  },
  {
   "cell_type": "markdown",
   "metadata": {},
   "source": [
    "#### Задача 1\n",
    "\n",
    "Используя цикл for, найдите сумму всех элементов заданного списка. (Без использования встроенных функций sum и т.д.)"
   ]
  },
  {
   "cell_type": "code",
   "execution_count": 55,
   "metadata": {
    "pycharm": {
     "is_executing": false
    }
   },
   "outputs": [],
   "source": [
    "my_list = [40, 32, 45, 22, 69, 3, 59, 150, 34, 0, 2, 5, 1, 38, 65, 39, 94]"
   ]
  },
  {
   "cell_type": "code",
   "execution_count": 62,
   "metadata": {},
   "outputs": [
    {
     "name": "stdout",
     "output_type": "stream",
     "text": [
      "698\n"
     ]
    }
   ],
   "source": [
    "sum_ = 0\n",
    "for el in my_list:\n",
    "    sum_ += el\n",
    "    \n",
    "print(str(sum_))"
   ]
  },
  {
   "cell_type": "markdown",
   "metadata": {},
   "source": [
    "Проверка:"
   ]
  },
  {
   "cell_type": "code",
   "execution_count": 56,
   "metadata": {
    "pycharm": {
     "is_executing": false
    }
   },
   "outputs": [
    {
     "data": {
      "text/plain": [
       "698"
      ]
     },
     "execution_count": 56,
     "metadata": {},
     "output_type": "execute_result"
    }
   ],
   "source": [
    "sum(my_list)"
   ]
  },
  {
   "cell_type": "markdown",
   "metadata": {},
   "source": [
    "#### Задача 2\n",
    "\n",
    "Напишите функцию, которая принимает на вход список из предыдущего задания и возвращает сумму всех элементов списка. (Без использования встроенных функций sum и т.д.)"
   ]
  },
  {
   "cell_type": "code",
   "execution_count": 63,
   "metadata": {},
   "outputs": [
    {
     "name": "stdout",
     "output_type": "stream",
     "text": [
      "698\n"
     ]
    }
   ],
   "source": [
    "def sum_el(array):\n",
    "    sum_ = 0\n",
    "    for el in array:\n",
    "        sum_ += el\n",
    "    return sum_\n",
    "\n",
    "print(sum_el(my_list))"
   ]
  },
  {
   "cell_type": "markdown",
   "metadata": {},
   "source": [
    "#### Задача 3\n",
    "\n",
    "Используя цикл (любой) найдите значение максимального элемента списка из предыдущего задания. (Без использования встроенных функций max и т.д.) Можно использовать встроенные методы списков (любые). \n",
    "\n",
    "P.S.: не стесняйтесь гуглить :)\n",
    "\n",
    "P.S.2: гуглить нужно фразу \"алгоритм поиска максимального элемента массива\"\n",
    "\n",
    "Пример: для списка [3, 4, 1, 7, 2] значением максимального элемента является число 7"
   ]
  },
  {
   "cell_type": "code",
   "execution_count": 57,
   "metadata": {
    "pycharm": {
     "is_executing": false
    }
   },
   "outputs": [],
   "source": [
    "my_list = [40, 32, 45, 22, 69, 3, 59, 150, 34, 0, 2, 5, 1, 38, 65, 39, 94]"
   ]
  },
  {
   "cell_type": "code",
   "execution_count": 64,
   "metadata": {},
   "outputs": [
    {
     "name": "stdout",
     "output_type": "stream",
     "text": [
      "150\n"
     ]
    }
   ],
   "source": [
    "max_el = my_list[0]\n",
    "for el in my_list:\n",
    "    if el > max_el:\n",
    "        max_el = el\n",
    "\n",
    "print(str(max_el))"
   ]
  },
  {
   "cell_type": "markdown",
   "metadata": {},
   "source": [
    "Проверка:"
   ]
  },
  {
   "cell_type": "code",
   "execution_count": 58,
   "metadata": {
    "pycharm": {
     "is_executing": false
    }
   },
   "outputs": [
    {
     "data": {
      "text/plain": [
       "150"
      ]
     },
     "execution_count": 58,
     "metadata": {},
     "output_type": "execute_result"
    }
   ],
   "source": [
    "max(my_list)"
   ]
  },
  {
   "cell_type": "markdown",
   "metadata": {},
   "source": [
    "#### Задача 4\n",
    "\n",
    "Напишите функцию, которая принимает на вход список из предыдущего задания и возвращает его максимальный элемент. (Без использования встроенных функций max и т.д.) Можно использовать встроенные методы списков (любые). Т.е. заверните решение предыдущего задания в функцию.\n"
   ]
  },
  {
   "cell_type": "code",
   "execution_count": 65,
   "metadata": {},
   "outputs": [
    {
     "name": "stdout",
     "output_type": "stream",
     "text": [
      "150\n"
     ]
    }
   ],
   "source": [
    "def max_el(array):\n",
    "    max_el = array[0]\n",
    "    for el in array:\n",
    "        if el > max_el:\n",
    "            max_el = el\n",
    "    return max_el\n",
    "\n",
    "print(max_el(my_list))"
   ]
  },
  {
   "cell_type": "markdown",
   "metadata": {},
   "source": [
    "#### Задача 5\n",
    "\n",
    "Используя список из предыдущего задания (my_list) создайте кортеж и назовите его my_tuple. Найдите индекс элемента, который равен 5. \n",
    "\n",
    "P.S. Используйте один из встроенных методов для кортежей"
   ]
  },
  {
   "cell_type": "code",
   "execution_count": 59,
   "metadata": {
    "pycharm": {
     "is_executing": false
    }
   },
   "outputs": [],
   "source": [
    "my_list = [40, 32, 45, 22, 69, 3, 59, 150, 34, 0, 2, 5, 1, 38, 65, 39, 94]"
   ]
  },
  {
   "cell_type": "code",
   "execution_count": 66,
   "metadata": {},
   "outputs": [
    {
     "name": "stdout",
     "output_type": "stream",
     "text": [
      "11\n"
     ]
    }
   ],
   "source": [
    "my_tuple = tuple(my_list)\n",
    "print(my_tuple.index(5))"
   ]
  },
  {
   "cell_type": "markdown",
   "metadata": {},
   "source": [
    "**Задача 6**\n",
    "\n",
    "Создайте словарь, соответствующий следующему описанию: \n",
    "    \n",
    "В честь 8 марта начальник отдела Валера решил принести на работу коробку конфет и угостить коллег :) Красотка Наташа съела две конфеты, ее подруга Алина - целых три, разработчик Марат унес с собой в соседний опен-спейс целых пятнадцать, чтобы поделиться со своей командой, менеджер проекта Лев проходил мимо и съел одну конфету, а сам Валера, будучи сторонником здорового образа жизни, ни съел ни одной.\n",
    "\n",
    "P.S. все совпадения случайны :)"
   ]
  },
  {
   "cell_type": "code",
   "execution_count": 68,
   "metadata": {},
   "outputs": [],
   "source": [
    "my_dict = {\n",
    "    'Наташа' : 2,\n",
    "    'Алина' : 3,\n",
    "    'Марат' : 15,\n",
    "    'Лев' : 1,\n",
    "    'Валера' : 0\n",
    "}"
   ]
  },
  {
   "cell_type": "markdown",
   "metadata": {},
   "source": [
    "**Задача 7**\n",
    "\n",
    "Добавьте в словарь из предыдущего задания данные для студента Ромы, который работает неполный рабочий день, и, придя на работу после экзамена, с удовольствием съел 4 конфеты.\n",
    "\n",
    "P.S. используйте встроенный метод .update"
   ]
  },
  {
   "cell_type": "code",
   "execution_count": 70,
   "metadata": {},
   "outputs": [
    {
     "name": "stdout",
     "output_type": "stream",
     "text": [
      "{'Наташа': 2, 'Алина': 3, 'Марат': 15, 'Лев': 1, 'Валера': 0, 'Рома': 4}\n"
     ]
    }
   ],
   "source": [
    "my_dict.update({'Рома' : 4})\n",
    "print(my_dict)"
   ]
  },
  {
   "cell_type": "markdown",
   "metadata": {},
   "source": [
    "**Задача 8**\n",
    "\n",
    "Двое друзей решили отправиться в путешествия. Дима посетил следующие страны: Украина, Египет, США, Германия, Дания. Алина же побывала на Украине, в Египте, Испании, Тунисе, Германии, Швейцарии.\n",
    "\n",
    "Создайте два множества (set), соответствующие странам, которые посетили Дима и Алина.\n",
    "\n",
    "Найдите:\n",
    "* только те страны, в которых побывали и Дима, и Алина (пересечение)\n",
    "* все страны, которые посетили друзья (объединение)\n",
    "* страны, в которых Алина побывала, а Дима еще нет"
   ]
  },
  {
   "cell_type": "code",
   "execution_count": 74,
   "metadata": {},
   "outputs": [
    {
     "name": "stdout",
     "output_type": "stream",
     "text": [
      "{'Украина', 'Египет', 'Германия'}\n",
      "{'Тунис', 'США', 'Египет', 'Дания', 'Швейцария', 'Испания', 'Украина', 'Германия'}\n",
      "{'Тунис', 'Швейцария', 'Испания'}\n"
     ]
    }
   ],
   "source": [
    "dima = {'Украина', 'Египет', 'США', 'Германия', 'Дания'}\n",
    "alina = {'Украина', 'Египет', 'Испания', 'Тунис', 'Германия', 'Швейцария'}\n",
    "\n",
    "print(dima & alina)\n",
    "print(dima | alina)\n",
    "print(alina - dima)"
   ]
  },
  {
   "cell_type": "markdown",
   "metadata": {},
   "source": [
    "**Задача 9**\n",
    "\n",
    "Запустите две ячейки с кодом ниже и убедитесь, что вы понимаете разницу в выполнении кода:"
   ]
  },
  {
   "cell_type": "code",
   "execution_count": 75,
   "metadata": {
    "pycharm": {
     "is_executing": false
    }
   },
   "outputs": [
    {
     "name": "stdout",
     "output_type": "stream",
     "text": [
      "0.5\n",
      "1.5\n"
     ]
    },
    {
     "ename": "TypeError",
     "evalue": "unsupported operand type(s) for /: 'str' and 'int'",
     "output_type": "error",
     "traceback": [
      "\u001b[0;31m---------------------------------------------------------------------------\u001b[0m",
      "\u001b[0;31mTypeError\u001b[0m                                 Traceback (most recent call last)",
      "\u001b[0;32m<ipython-input-75-d8c7441c9db1>\u001b[0m in \u001b[0;36m<module>\u001b[0;34m\u001b[0m\n\u001b[1;32m      2\u001b[0m \u001b[0;34m\u001b[0m\u001b[0m\n\u001b[1;32m      3\u001b[0m \u001b[0;32mfor\u001b[0m \u001b[0melement\u001b[0m \u001b[0;32min\u001b[0m \u001b[0mmy_array\u001b[0m\u001b[0;34m:\u001b[0m\u001b[0;34m\u001b[0m\u001b[0;34m\u001b[0m\u001b[0m\n\u001b[0;32m----> 4\u001b[0;31m     \u001b[0mprint\u001b[0m\u001b[0;34m(\u001b[0m\u001b[0melement\u001b[0m \u001b[0;34m/\u001b[0m \u001b[0;36m2\u001b[0m\u001b[0;34m)\u001b[0m\u001b[0;34m\u001b[0m\u001b[0;34m\u001b[0m\u001b[0m\n\u001b[0m\u001b[1;32m      5\u001b[0m \u001b[0;34m\u001b[0m\u001b[0m\n\u001b[1;32m      6\u001b[0m \u001b[0mprint\u001b[0m\u001b[0;34m(\u001b[0m\u001b[0;34m\"Я следующий кусок кода, который НЕ отработал!\"\u001b[0m\u001b[0;34m)\u001b[0m\u001b[0;34m\u001b[0m\u001b[0;34m\u001b[0m\u001b[0m\n",
      "\u001b[0;31mTypeError\u001b[0m: unsupported operand type(s) for /: 'str' and 'int'"
     ]
    }
   ],
   "source": [
    "my_array = [1, 3, \"Котики\", 4]\n",
    "\n",
    "for element in my_array:\n",
    "    print(element / 2)\n",
    "    \n",
    "print(\"Я следующий кусок кода, который НЕ отработал!\")"
   ]
  },
  {
   "cell_type": "code",
   "execution_count": 76,
   "metadata": {
    "pycharm": {
     "is_executing": false
    }
   },
   "outputs": [
    {
     "name": "stdout",
     "output_type": "stream",
     "text": [
      "0.5\n",
      "1.5\n",
      "Не могу поделить, элемент не численного типа!\n",
      "\n",
      "\n",
      "Я следующий кусок кода, который отработал!\n"
     ]
    }
   ],
   "source": [
    "my_array = [1, 3, \"Котики\", 4]\n",
    "\n",
    "try:\n",
    "    for element in my_array:\n",
    "        print(element / 2)\n",
    "except:\n",
    "    print(\"Не могу поделить, элемент не численного типа!\")\n",
    "    \n",
    "print(\"\\n\")\n",
    "print(\"Я следующий кусок кода, который отработал!\")"
   ]
  },
  {
   "cell_type": "markdown",
   "metadata": {},
   "source": [
    "**Задача 10**\n",
    "\n",
    "Используя lambda функцию напишите функцию, которая возводит числа в квадрат. Используя написанную функцию, найдите квадрат числа 12."
   ]
  },
  {
   "cell_type": "code",
   "execution_count": 79,
   "metadata": {},
   "outputs": [
    {
     "name": "stdout",
     "output_type": "stream",
     "text": [
      "144\n"
     ]
    }
   ],
   "source": [
    "y = lambda x: x ** 2\n",
    "print(y(12))"
   ]
  },
  {
   "cell_type": "markdown",
   "metadata": {},
   "source": [
    "### Задачи Pro"
   ]
  },
  {
   "cell_type": "markdown",
   "metadata": {},
   "source": [
    "**Задача 1**\n",
    "\n",
    "\n",
    "Используя циклы, напишите код, который создает список (list) путем конкатенации значений данного листа с целыми числами от 1 до (произвольного) n включительно.\n",
    "\n",
    "Пример:\n",
    "\n",
    "для списка [\"сосиски\", \"горчица\"] при n = 3 результат должен выглядеть так:\n",
    "\n",
    "['сосиски$\\_$1', 'горчица$\\_$1', 'сосиски$\\_2$', 'горчица$\\_$2', 'сосиски$\\_$3', 'горчица$\\_$3']"
   ]
  },
  {
   "cell_type": "code",
   "execution_count": 83,
   "metadata": {
    "pycharm": {
     "is_executing": false
    }
   },
   "outputs": [
    {
     "name": "stdout",
     "output_type": "stream",
     "text": [
      "['огурцы_1', 'помидоры_1', 'оливковое_масло_1', 'огурцы_2', 'помидоры_2', 'оливковое_масло_2', 'огурцы_3', 'помидоры_3', 'оливковое_масло_3', 'огурцы_4', 'помидоры_4', 'оливковое_масло_4', 'огурцы_5', 'помидоры_5', 'оливковое_масло_5']\n"
     ]
    }
   ],
   "source": [
    "sample_list = [\"огурцы\", \"помидоры\", \"оливковое_масло\"]\n",
    "n = 5\n",
    "result_list = []\n",
    "\n",
    "i = 1\n",
    "while i <= n:\n",
    "    for el in sample_list:\n",
    "        result_list.append(el + '_' + str(i))\n",
    "    i += 1    \n",
    "print(result_list)"
   ]
  },
  {
   "cell_type": "markdown",
   "metadata": {},
   "source": [
    "**Задача 2**\n",
    "\n",
    "Для предудыщей задачи напишите функцию, которая выполняет те же самые действия."
   ]
  },
  {
   "cell_type": "code",
   "execution_count": 84,
   "metadata": {},
   "outputs": [
    {
     "name": "stdout",
     "output_type": "stream",
     "text": [
      "['огурцы_1', 'помидоры_1', 'оливковое_масло_1', 'огурцы_2', 'помидоры_2', 'оливковое_масло_2', 'огурцы_3', 'помидоры_3', 'оливковое_масло_3', 'огурцы_4', 'помидоры_4', 'оливковое_масло_4', 'огурцы_5', 'помидоры_5', 'оливковое_масло_5', 'огурцы_6', 'помидоры_6', 'оливковое_масло_6']\n"
     ]
    }
   ],
   "source": [
    "def concat(array, n):\n",
    "    result_list = []\n",
    "    i = 1\n",
    "    while i <= n:\n",
    "        for el in array:\n",
    "            result_list.append(el + '_' + str(i))\n",
    "        i += 1\n",
    "    return result_list\n",
    "\n",
    "print(concat(sample_list, 6))"
   ]
  },
  {
   "cell_type": "markdown",
   "metadata": {},
   "source": [
    "**Задача 3**\n",
    "\n",
    "Напишите код, который считает количество элементов в заданном списке до тех пор, пока не встретится элемент кортежа.\n",
    "\n",
    "Пример:\n",
    "\n",
    "для списка [3, \"котики\", 0.45, 5, (8, 9), \"слоники\", 34] на выходе должны получить число 4"
   ]
  },
  {
   "cell_type": "code",
   "execution_count": 91,
   "metadata": {
    "pycharm": {
     "is_executing": false
    }
   },
   "outputs": [
    {
     "name": "stdout",
     "output_type": "stream",
     "text": [
      "5\n"
     ]
    }
   ],
   "source": [
    "list_for_pro_task_2 = [35, 0.24, 3 + 4j, \"котики\", 0.45, (8, 9), \"слоники\", (\"Мадрид\", 3), 23498]\n",
    "el_sum = 0\n",
    "for el in list_for_pro_task_2:\n",
    "    if isinstance(el, tuple) == True:\n",
    "        break\n",
    "    else:\n",
    "        el_sum += 1\n",
    "\n",
    "print(str(el_sum))"
   ]
  },
  {
   "cell_type": "markdown",
   "metadata": {},
   "source": [
    "**Задача 4**\n",
    "\n",
    "\n",
    "Создайте словарь (dict) c ключами, соответствующими числам от 1 до 20 включительно и значениями, соответствующими квадратам ключей. \n",
    "\n",
    "P.S. используйте циклы или функции, прямое \"ручное\" присваивание не допускается (!!!)\n",
    "\n",
    "Пример: \n",
    "\n",
    "для чисел от 1 до 3 включительно словарь должен выглядеть так: {1 : 1, 2 : 4, 3 : 9}"
   ]
  },
  {
   "cell_type": "code",
   "execution_count": 92,
   "metadata": {},
   "outputs": [
    {
     "name": "stdout",
     "output_type": "stream",
     "text": [
      "{1: 1, 2: 4, 3: 9, 4: 16, 5: 25, 6: 36, 7: 49, 8: 64, 9: 81, 10: 100, 11: 121, 12: 144, 13: 169, 14: 196, 15: 225, 16: 256, 17: 289, 18: 324, 19: 361, 20: 400}\n"
     ]
    }
   ],
   "source": [
    "squares = {}\n",
    "for i in range(1, 21):\n",
    "    squares.update({i : i ** 2})\n",
    "\n",
    "print(squares)"
   ]
  },
  {
   "cell_type": "markdown",
   "metadata": {},
   "source": [
    "**Задача 5**\n",
    "\n",
    "Напишите функцию, которая выполняет все то же самое, что и в предыдущей задаче, но от 1 до произвольного n."
   ]
  },
  {
   "cell_type": "code",
   "execution_count": 93,
   "metadata": {},
   "outputs": [
    {
     "name": "stdout",
     "output_type": "stream",
     "text": [
      "{1: 1, 2: 4, 3: 9, 4: 16, 5: 25, 6: 36, 7: 49, 8: 64, 9: 81, 10: 100, 11: 121, 12: 144, 13: 169, 14: 196}\n"
     ]
    }
   ],
   "source": [
    "def square(n):\n",
    "    squares = {}\n",
    "    for i in range(1, n + 1):\n",
    "        squares.update({i : i ** 2})\n",
    "    return squares\n",
    "\n",
    "print(square(14))"
   ]
  },
  {
   "cell_type": "markdown",
   "metadata": {},
   "source": [
    "**Задача 6**\n",
    "\n",
    "Напишите все то же самое, что и в предыдущей задаче, с помощью lambda функции."
   ]
  },
  {
   "cell_type": "code",
   "execution_count": 119,
   "metadata": {},
   "outputs": [
    {
     "name": "stdout",
     "output_type": "stream",
     "text": [
      "{1: 1, 2: 4, 3: 9, 4: 16, 5: 25, 6: 36, 7: 49, 8: 64, 9: 81, 10: 100, 11: 121, 12: 144, 13: 169, 14: 196, 15: 225, 16: 256, 17: 289, 18: 324, 19: 361, 20: 400}\n"
     ]
    }
   ],
   "source": [
    "def square_const(n):\n",
    "    d = dict((x, x ** 2) for x in range(1, n + 1))\n",
    "    return d\n",
    "\n",
    "print(square_const(20))\n",
    "\n",
    "# Пока не нашел явного решения с лямбда-функцией, но смог сгенерить словать с помощью конструктора"
   ]
  },
  {
   "cell_type": "markdown",
   "metadata": {},
   "source": [
    "**Задача 7**\n",
    "\n",
    "Прочитайте что такое **map** и напишите все то же самое, что и в предыдущих задачах, с помощью конструкции \n",
    "\n",
    "map(function_object, iterable1, iterable2,...)\n",
    "\n",
    "P.S. Обратите внимание, что **function_object** может быть как обычной, так и lambda функцией"
   ]
  },
  {
   "cell_type": "code",
   "execution_count": 108,
   "metadata": {},
   "outputs": [
    {
     "name": "stdout",
     "output_type": "stream",
     "text": [
      "{1: 1, 2: 4, 3: 9, 4: 16, 5: 25, 6: 36, 7: 49, 8: 64, 9: 81, 10: 100, 11: 121, 12: 144, 13: 169, 14: 196, 15: 225, 16: 256, 17: 289, 18: 324, 19: 361, 20: 400}\n"
     ]
    }
   ],
   "source": [
    "iter = range(1, 21)\n",
    "d = dict(map(lambda x: (x, x ** 2), iter))\n",
    "print(d)"
   ]
  },
  {
   "cell_type": "markdown",
   "metadata": {},
   "source": [
    "**Задача 8**\n",
    "\n",
    "Решите Задачу 8 про множества из варианта Light. "
   ]
  },
  {
   "cell_type": "code",
   "execution_count": 120,
   "metadata": {},
   "outputs": [
    {
     "name": "stdout",
     "output_type": "stream",
     "text": [
      "{'Украина', 'Египет', 'Германия'}\n",
      "{'Тунис', 'США', 'Египет', 'Дания', 'Швейцария', 'Испания', 'Украина', 'Германия'}\n",
      "{'Тунис', 'Швейцария', 'Испания'}\n"
     ]
    }
   ],
   "source": [
    "dima = {'Украина', 'Египет', 'США', 'Германия', 'Дания'}\n",
    "alina = {'Украина', 'Египет', 'Испания', 'Тунис', 'Германия', 'Швейцария'}\n",
    "\n",
    "print(dima & alina)\n",
    "print(dima | alina)\n",
    "print(alina - dima)"
   ]
  },
  {
   "cell_type": "markdown",
   "metadata": {},
   "source": [
    "**Задача 9**\n",
    "\n",
    "Напишите функцтю, которая вычисляет квадратный корень для заданного числа. Довабьте в функцию \"защиту от дурака\", используя конструкцию исключений (try - except - else).\n",
    "\n",
    "* добавьте проверку на тип введенных данных\n",
    "* добавьте проверку на неотрицательность числа, подаваемого на вход"
   ]
  },
  {
   "cell_type": "code",
   "execution_count": 172,
   "metadata": {},
   "outputs": [
    {
     "name": "stdout",
     "output_type": "stream",
     "text": [
      "Введите число: 4\n",
      "2.0\n"
     ]
    }
   ],
   "source": [
    "def root_sq(x):\n",
    "    try:\n",
    "        s = int(x)\n",
    "    except:\n",
    "        return(\"Введите число, а не текст!\")\n",
    "    else:\n",
    "        if s < 0:\n",
    "            return(\"Введите положительное число!\")\n",
    "        else:\n",
    "            return s ** 0.5\n",
    "            \n",
    "print(root_sq(input(\"Введите число: \")))"
   ]
  },
  {
   "cell_type": "markdown",
   "metadata": {},
   "source": [
    "**Задача 10**\n",
    "\n",
    "Напишите **прототип генератора батчей**. Для произвольного списка (содержащего данные любого типа), имеющего произвольную длину n, поделите список на m непересекающихся частей одинаковой длины. Если невозможно поделить список на части одинаковой длины, т.е. n / m не делится без остатка, то в последнем батче кол-во элементов будет < m (т.е. все оставшиеся элементы). Батчи выбираются случайным образом (используйте функцию random.sample(my_list_name, size_of_sample)). Не забудьте удалять из исходного списка элементы, которые уже отобраны. Для этого лучше создать копию исходного списка и работать с ней (используйте встроенный метод .copy).\n",
    "\n",
    "* Создайте список длины n\n",
    "* C помощью циклов и функции random.sample поделите список на непересекающиеся батчи длины m \n",
    "* Заверните код в генератор (ключевое слово yield)\n",
    "* Продемонстрируйте правильность работы кода на произвольном списке"
   ]
  },
  {
   "cell_type": "code",
   "execution_count": 182,
   "metadata": {
    "pycharm": {
     "is_executing": false
    }
   },
   "outputs": [
    {
     "name": "stdout",
     "output_type": "stream",
     "text": [
      "[32, 69, 39]\n",
      "[38, 22, 59]\n",
      "[1, 3, 65]\n",
      "[5, 40, 2]\n",
      "[0, 45, 94]\n",
      "[150, 34]\n"
     ]
    }
   ],
   "source": [
    "import random\n",
    "list_copied = my_list.copy()\n",
    "m = 3\n",
    "\n",
    "while len(list_copied) > 0:\n",
    "    if len(list_copied) >= m:\n",
    "        s = random.sample(list_copied, m)\n",
    "        print(s)\n",
    "        for i in s:\n",
    "            list_copied.remove(i)\n",
    "    else:\n",
    "        print(list_copied)\n",
    "        break"
   ]
  },
  {
   "cell_type": "code",
   "execution_count": null,
   "metadata": {},
   "outputs": [],
   "source": []
  }
 ],
 "metadata": {
  "kernelspec": {
   "display_name": "Python 3",
   "language": "python",
   "name": "python3"
  },
  "language_info": {
   "codemirror_mode": {
    "name": "ipython",
    "version": 3
   },
   "file_extension": ".py",
   "mimetype": "text/x-python",
   "name": "python",
   "nbconvert_exporter": "python",
   "pygments_lexer": "ipython3",
   "version": "3.8.0"
  }
 },
 "nbformat": 4,
 "nbformat_minor": 2
}
