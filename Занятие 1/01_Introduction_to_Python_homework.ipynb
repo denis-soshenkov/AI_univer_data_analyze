{
 "cells": [
  {
   "cell_type": "markdown",
   "metadata": {},
   "source": [
    "# Python для анализа данных\n",
    "\n",
    "## Семинар 1: Введение в Python\n",
    "\n",
    "**Полунина Полина**\n",
    "\n",
    "## Light версия"
   ]
  },
  {
   "cell_type": "markdown",
   "metadata": {},
   "source": [
    "### Задача 1\n",
    "\n",
    "Считайте с входящей строки два целых числа и выведите их произведение. Если произведение больше 1000, то дополнительно выведите сумму чисел."
   ]
  },
  {
   "cell_type": "code",
   "execution_count": 2,
   "metadata": {
    "pycharm": {
     "is_executing": false
    }
   },
   "outputs": [
    {
     "name": "stdout",
     "output_type": "stream",
     "text": [
      "Введите первое число: 20\n",
      "Введите второе число: 40\n",
      "Произведение чисел: 800\n"
     ]
    }
   ],
   "source": [
    "first = int(input('Введите первое число: '))\n",
    "second = int(input('Введите второе число: '))\n",
    "if first * second > 1000:\n",
    "    print('Произведение чисел:', str(first * second))\n",
    "    print('Сумма чисел:', str(first + second))\n",
    "else:\n",
    "    print('Произведение чисел:', str(first * second))"
   ]
  },
  {
   "cell_type": "markdown",
   "metadata": {},
   "source": [
    "### Задача 2\n",
    "\n",
    "Дан ряд целых чисел от 5 до 12 включительно. Используя цикл for выведите на экран сумму двух последовательно идущих чисел.\n",
    "\n",
    "\n",
    "**Пример**: \n",
    "\n",
    "Для ряда от 2 до 6 включительно выдача выглядит так: \n",
    "\n",
    "5\n",
    "\n",
    "7\n",
    "\n",
    "9\n",
    "\n",
    "11\n"
   ]
  },
  {
   "cell_type": "code",
   "execution_count": 10,
   "metadata": {
    "pycharm": {
     "is_executing": false
    }
   },
   "outputs": [
    {
     "name": "stdout",
     "output_type": "stream",
     "text": [
      "11\n",
      "13\n",
      "15\n",
      "17\n",
      "19\n",
      "21\n",
      "23\n"
     ]
    }
   ],
   "source": [
    "for i in range(5, 12):\n",
    "    if i < 12:\n",
    "        print(str(2 * i + 1))"
   ]
  },
  {
   "cell_type": "markdown",
   "metadata": {},
   "source": [
    "### Задача 3\n",
    "\n",
    "Для ряда целых чисел от 10 до 20 включительно выведите на экран только те, что делятся на 2 без остатка."
   ]
  },
  {
   "cell_type": "code",
   "execution_count": 19,
   "metadata": {
    "pycharm": {
     "is_executing": false
    }
   },
   "outputs": [
    {
     "name": "stdout",
     "output_type": "stream",
     "text": [
      "10\n",
      "12\n",
      "14\n",
      "16\n",
      "18\n",
      "20\n"
     ]
    }
   ],
   "source": [
    "for i in range(10, 21):\n",
    "    if i % 2 == 0:\n",
    "        print(str(i))"
   ]
  },
  {
   "cell_type": "markdown",
   "metadata": {},
   "source": [
    "### Задача 4\n",
    "\n",
    "Считайте с входящей строки целое положительное число и сохраните его в переменную N. Используя кострукцию if...else выведите на экран результат в зависимости от условий:\n",
    "\n",
    "* Если N нечетное, то выведите на экран \"N нечетное\"\n",
    "* Если N четное и входит в интервал от 5 до 10 включительно, выведите на экран \"N четное и принадлежит интервалу [5, 10]\"\n",
    "* Если N четное и больше 10, выведите на экран \"N четное и N > 10\"\n",
    "* Если N четное и меньше 5, выведите на экран \"N четное и N < 5\""
   ]
  },
  {
   "cell_type": "code",
   "execution_count": 25,
   "metadata": {
    "pycharm": {
     "is_executing": false
    }
   },
   "outputs": [
    {
     "name": "stdout",
     "output_type": "stream",
     "text": [
      "Введите целое положительное число:4\n",
      "N четное и N < 5\n"
     ]
    }
   ],
   "source": [
    "N = int(input('Введите целое положительное число:'))\n",
    "if N % 2 != 0:\n",
    "    print('N нечетное')\n",
    "elif N % 2 == 0 and N in range(5, 11):\n",
    "    print('N четное и принадлежит интервалу [5, 10]')\n",
    "elif N % 2 == 0 and N > 10:\n",
    "    print('N четное и N > 10')\n",
    "elif N % 2 == 0 and N < 5:\n",
    "    print('N четное и N < 5')"
   ]
  },
  {
   "cell_type": "markdown",
   "metadata": {},
   "source": [
    "### Задача 5\n",
    "\n",
    "Используя цикл while, посчитайте и выведите на экран сумму всех целых чисел от 2 до 7 включительно.\n"
   ]
  },
  {
   "cell_type": "code",
   "execution_count": 31,
   "metadata": {
    "pycharm": {
     "is_executing": false
    }
   },
   "outputs": [
    {
     "name": "stdout",
     "output_type": "stream",
     "text": [
      "12\n"
     ]
    }
   ],
   "source": [
    "sum = 0\n",
    "i  = 2\n",
    "while i <= 7:\n",
    "    if i % 2 == 0:\n",
    "        sum = sum + i\n",
    "    i += 1\n",
    "print(str(sum))"
   ]
  },
  {
   "cell_type": "markdown",
   "metadata": {},
   "source": [
    "## Pro версия"
   ]
  },
  {
   "cell_type": "markdown",
   "metadata": {},
   "source": [
    "### Задача 1\n",
    "\n",
    "Выведите на экран следующий паттерн:\n",
    "\n",
    "1\n",
    "\n",
    "2 2 \n",
    "\n",
    "3 3 3 \n",
    "\n",
    "4 4 4 4 \n",
    "\n",
    "5 5 5 5 5\n",
    "\n",
    "Обратите внимание на пробел между символами"
   ]
  },
  {
   "cell_type": "code",
   "execution_count": 48,
   "metadata": {
    "pycharm": {
     "is_executing": false
    }
   },
   "outputs": [
    {
     "name": "stdout",
     "output_type": "stream",
     "text": [
      "1 \n",
      "2 2 \n",
      "3 3 3 \n",
      "4 4 4 4 \n",
      "5 5 5 5 5 \n"
     ]
    }
   ],
   "source": [
    "for i in range(1, 6):\n",
    "    print((str(i) + ' ') * i)"
   ]
  },
  {
   "cell_type": "markdown",
   "metadata": {},
   "source": [
    "### Задача 2\n",
    "\n",
    "Выведите на экран следующий паттерн:\n",
    "\n",
    "1\n",
    "\n",
    "2 2 \n",
    "\n",
    "3 3 3 \n",
    "\n",
    "4 4 4 4 \n",
    "\n",
    "5 5 5 5 5\n",
    "\n",
    "6 6 6 6\n",
    "\n",
    "7 7 7\n",
    "\n",
    "8 8\n",
    "\n",
    "9\n",
    "\n",
    "Обратите внимание на пробел между символами"
   ]
  },
  {
   "cell_type": "code",
   "execution_count": 85,
   "metadata": {
    "pycharm": {
     "is_executing": false
    }
   },
   "outputs": [
    {
     "name": "stdout",
     "output_type": "stream",
     "text": [
      "1 \n",
      "2 2 \n",
      "3 3 3 \n",
      "4 4 4 4 \n",
      "5 5 5 5 5 \n",
      "6 6 6 6 \n",
      "7 7 7 \n",
      "8 8 \n",
      "9 \n"
     ]
    }
   ],
   "source": [
    "for i in range(1, 10):\n",
    "    if i <= 5:\n",
    "        print((str(i) + ' ') * i)\n",
    "    else:\n",
    "        print((str(i) + ' ') * (- i + 10))"
   ]
  },
  {
   "cell_type": "markdown",
   "metadata": {},
   "source": [
    "### Задача 3\n",
    "\n",
    "Используя цикл while, выведите на экран таблицу умножения для числа 6.\n",
    "\n",
    "**Пример:**\n",
    "    \n",
    "Для числе 5 выдача выглядит так:\n",
    "    \n",
    "5 * 1 = 5\n",
    "\n",
    "5 * 2 = 10\n",
    "\n",
    "5 * 3 = 15\n",
    "\n",
    "5 * 4 = 20\n",
    "\n",
    "5 * 5 = 25\n",
    "\n",
    "...\n",
    "\n",
    "5 * 9 = 45"
   ]
  },
  {
   "cell_type": "code",
   "execution_count": 87,
   "metadata": {
    "pycharm": {
     "is_executing": false
    }
   },
   "outputs": [
    {
     "name": "stdout",
     "output_type": "stream",
     "text": [
      "6 * 1 = 6\n",
      "6 * 2 = 12\n",
      "6 * 3 = 18\n",
      "6 * 4 = 24\n",
      "6 * 5 = 30\n",
      "6 * 6 = 36\n",
      "6 * 7 = 42\n",
      "6 * 8 = 48\n",
      "6 * 9 = 54\n"
     ]
    }
   ],
   "source": [
    "i = 1\n",
    "x = 6\n",
    "while i < 10:\n",
    "    print(str(x), '*', str(i), '=', str(x * i))\n",
    "    i += 1"
   ]
  },
  {
   "cell_type": "markdown",
   "metadata": {},
   "source": [
    "### Задача 4\n",
    "\n",
    "Представьте, что вы подбрасываете два кубика одновременно. Считайте с входящей строки два целых числа d1 и d2. Проверьте, соответсуют ли введенные числа интервалу значений для кубика. Если нет, то выведите на экран строку \"Ошибка! Значение на кубике (1 или 2, вставьте подходящее значение) не входит в интервал [1, 6]\". В противном случае посчитайте сумму выпавших значений. Если сумма равна 7 или 11, выведите на экран \"Я победил!!!\". Если сумма равна 2, 3 или 12, то выведите на экран \"Я проиграл :(\". Во всех остальных случаях выведите на экран сумму значений.\n"
   ]
  },
  {
   "cell_type": "code",
   "execution_count": 100,
   "metadata": {
    "pycharm": {
     "is_executing": false
    }
   },
   "outputs": [
    {
     "name": "stdout",
     "output_type": "stream",
     "text": [
      "Введите первое целое число:1\n",
      "Введите второе целое число:1\n",
      "Я проиграл :(\n"
     ]
    }
   ],
   "source": [
    "d1 = int(input('Введите первое целое число:'))\n",
    "d2 = int(input('Введите второе целое число:'))\n",
    "win = (7, 11)\n",
    "lose = (2, 3, 12)\n",
    "sum = d1 + d2\n",
    "\n",
    "if d1 not in range (1, 7):\n",
    "    print('Ошибка! Значение на кубике 1 не входит в интервал [1, 6]')\n",
    "elif d2 not in range (1, 7):\n",
    "    print('Ошибка! Значение на кубике 2 не входит в интервал [1, 6]')\n",
    "elif sum in win:\n",
    "    print ('Я победил!!!')\n",
    "elif sum in lose:\n",
    "    print ('Я проиграл :(')\n",
    "else:\n",
    "    print(str(sum))"
   ]
  },
  {
   "cell_type": "markdown",
   "metadata": {},
   "source": [
    "### Задача 5\n",
    "\n",
    "Напишите код, который ищет все числа в интервале от 2000 до 3200 включительно, делящиеся на 7, но не делящиеся на 5. Выведите на экран все найденные числа."
   ]
  },
  {
   "cell_type": "code",
   "execution_count": 102,
   "metadata": {
    "pycharm": {
     "is_executing": false
    }
   },
   "outputs": [
    {
     "name": "stdout",
     "output_type": "stream",
     "text": [
      "2002\n",
      "2009\n",
      "2016\n",
      "2023\n",
      "2037\n",
      "2044\n",
      "2051\n",
      "2058\n",
      "2072\n",
      "2079\n",
      "2086\n",
      "2093\n",
      "2107\n",
      "2114\n",
      "2121\n",
      "2128\n",
      "2142\n",
      "2149\n",
      "2156\n",
      "2163\n",
      "2177\n",
      "2184\n",
      "2191\n",
      "2198\n",
      "2212\n",
      "2219\n",
      "2226\n",
      "2233\n",
      "2247\n",
      "2254\n",
      "2261\n",
      "2268\n",
      "2282\n",
      "2289\n",
      "2296\n",
      "2303\n",
      "2317\n",
      "2324\n",
      "2331\n",
      "2338\n",
      "2352\n",
      "2359\n",
      "2366\n",
      "2373\n",
      "2387\n",
      "2394\n",
      "2401\n",
      "2408\n",
      "2422\n",
      "2429\n",
      "2436\n",
      "2443\n",
      "2457\n",
      "2464\n",
      "2471\n",
      "2478\n",
      "2492\n",
      "2499\n",
      "2506\n",
      "2513\n",
      "2527\n",
      "2534\n",
      "2541\n",
      "2548\n",
      "2562\n",
      "2569\n",
      "2576\n",
      "2583\n",
      "2597\n",
      "2604\n",
      "2611\n",
      "2618\n",
      "2632\n",
      "2639\n",
      "2646\n",
      "2653\n",
      "2667\n",
      "2674\n",
      "2681\n",
      "2688\n",
      "2702\n",
      "2709\n",
      "2716\n",
      "2723\n",
      "2737\n",
      "2744\n",
      "2751\n",
      "2758\n",
      "2772\n",
      "2779\n",
      "2786\n",
      "2793\n",
      "2807\n",
      "2814\n",
      "2821\n",
      "2828\n",
      "2842\n",
      "2849\n",
      "2856\n",
      "2863\n",
      "2877\n",
      "2884\n",
      "2891\n",
      "2898\n",
      "2912\n",
      "2919\n",
      "2926\n",
      "2933\n",
      "2947\n",
      "2954\n",
      "2961\n",
      "2968\n",
      "2982\n",
      "2989\n",
      "2996\n",
      "3003\n",
      "3017\n",
      "3024\n",
      "3031\n",
      "3038\n",
      "3052\n",
      "3059\n",
      "3066\n",
      "3073\n",
      "3087\n",
      "3094\n",
      "3101\n",
      "3108\n",
      "3122\n",
      "3129\n",
      "3136\n",
      "3143\n",
      "3157\n",
      "3164\n",
      "3171\n",
      "3178\n",
      "3192\n",
      "3199\n"
     ]
    }
   ],
   "source": [
    "for i in range(2000, 3201):\n",
    "    if i % 7 == 0 and i % 5 != 0:\n",
    "        print(str(i))"
   ]
  },
  {
   "cell_type": "code",
   "execution_count": null,
   "metadata": {},
   "outputs": [],
   "source": []
  }
 ],
 "metadata": {
  "kernelspec": {
   "display_name": "Python 3",
   "language": "python",
   "name": "python3"
  },
  "language_info": {
   "codemirror_mode": {
    "name": "ipython",
    "version": 3
   },
   "file_extension": ".py",
   "mimetype": "text/x-python",
   "name": "python",
   "nbconvert_exporter": "python",
   "pygments_lexer": "ipython3",
   "version": "3.8.0"
  }
 },
 "nbformat": 4,
 "nbformat_minor": 2
}
